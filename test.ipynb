{
 "cells": [
  {
   "cell_type": "code",
   "execution_count": 2,
   "id": "1d81fcce",
   "metadata": {},
   "outputs": [],
   "source": [
    "import numpy as np"
   ]
  },
  {
   "cell_type": "code",
   "execution_count": 19,
   "id": "e5c85890",
   "metadata": {},
   "outputs": [],
   "source": [
    "a=np.random.randn(3,3)\n",
    "b=np.random.randn(3,1)\n"
   ]
  },
  {
   "cell_type": "code",
   "execution_count": 20,
   "id": "479a6390",
   "metadata": {},
   "outputs": [
    {
     "name": "stdout",
     "output_type": "stream",
     "text": [
      "[[-0.34039516 -0.11250715  0.49958919]\n",
      " [-0.64891445 -1.06653971 -0.17579033]\n",
      " [-1.76787655 -0.46563522  1.29609513]]\n",
      "[[0.19473881]\n",
      " [2.55112287]\n",
      " [1.31405142]]\n",
      "[[-0.06628815 -0.02190951  0.0972894 ]\n",
      " [-1.65546048 -2.72087385 -0.44846272]\n",
      " [-2.32308069 -0.61186862  1.70313565]]\n"
     ]
    }
   ],
   "source": [
    "print(a)\n",
    "print(b)\n",
    "c = a*b\n",
    "print(c)"
   ]
  },
  {
   "cell_type": "code",
   "execution_count": 26,
   "id": "9d415fc9",
   "metadata": {},
   "outputs": [
    {
     "name": "stdout",
     "output_type": "stream",
     "text": [
      "(3, 3)\n"
     ]
    }
   ],
   "source": [
    "a = np.random.randn(1, 3)\n",
    "b = np.random.randn(3, 3)\n",
    "a_reshaped = a.flatten().reshape((3,))\n",
    "c = a_reshaped * b\n",
    "print(c.shape)  # Output: (3, 3)\n"
   ]
  },
  {
   "cell_type": "code",
   "execution_count": 27,
   "id": "07fb0f6f",
   "metadata": {},
   "outputs": [
    {
     "name": "stdout",
     "output_type": "stream",
     "text": [
      "[[-0.02163093 -0.68094666  0.59913386]]\n"
     ]
    }
   ],
   "source": [
    "print(a)"
   ]
  },
  {
   "cell_type": "code",
   "execution_count": 3,
   "id": "8d0aedbb",
   "metadata": {},
   "outputs": [],
   "source": [
    "a = np.array([10,23,21,32,42,442])"
   ]
  },
  {
   "cell_type": "code",
   "execution_count": 9,
   "id": "c37b943d",
   "metadata": {},
   "outputs": [],
   "source": [
    "b = np.clip(a,0,20)\n",
    "b = 2*b"
   ]
  },
  {
   "cell_type": "code",
   "execution_count": 10,
   "id": "532ca294",
   "metadata": {},
   "outputs": [
    {
     "name": "stdout",
     "output_type": "stream",
     "text": [
      "[20 40 40 40 40 40]\n"
     ]
    }
   ],
   "source": [
    "print(b)"
   ]
  },
  {
   "cell_type": "code",
   "execution_count": null,
   "id": "ab0830ea",
   "metadata": {},
   "outputs": [],
   "source": []
  }
 ],
 "metadata": {
  "kernelspec": {
   "display_name": "Python 3 (ipykernel)",
   "language": "python",
   "name": "python3"
  },
  "language_info": {
   "codemirror_mode": {
    "name": "ipython",
    "version": 3
   },
   "file_extension": ".py",
   "mimetype": "text/x-python",
   "name": "python",
   "nbconvert_exporter": "python",
   "pygments_lexer": "ipython3",
   "version": "3.10.6"
  }
 },
 "nbformat": 4,
 "nbformat_minor": 5
}
